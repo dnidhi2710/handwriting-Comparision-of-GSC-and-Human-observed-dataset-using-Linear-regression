{
 "cells": [
  {
   "cell_type": "code",
   "execution_count": 145,
   "metadata": {},
   "outputs": [],
   "source": [
    "from sklearn.cluster import KMeans\n",
    "import numpy as np\n",
    "import csv\n",
    "import sys\n",
    "import math\n",
    "import matplotlib.pyplot\n",
    "import pandas as pd\n",
    "from keras.utils import np_utils\n",
    "import random\n",
    "import tensorflow as tf\n",
    "from tqdm import tqdm_notebook\n",
    "from matplotlib import pyplot as plt"
   ]
  },
  {
   "cell_type": "code",
   "execution_count": 146,
   "metadata": {},
   "outputs": [],
   "source": [
    "maxAcc = 0.0\n",
    "maxIter = 0\n",
    "C_Lambda = 0.1\n",
    "TrainingPercent = 80\n",
    "ValidationPercent = 10\n",
    "TestPercent = 10\n",
    "M = 6\n",
    "PHI = []"
   ]
  },
  {
   "cell_type": "code",
   "execution_count": 147,
   "metadata": {},
   "outputs": [],
   "source": [
    "#this function reads the csv file and get the raw data with features.\n",
    "def Removeheaderandserialno(filePath, IsSynthetic): \n",
    "        dataMatrix = [] \n",
    "        with open(filePath, 'rU') as fi:\n",
    "            reader = csv.reader(fi)\n",
    "            line_count = 0\n",
    "            for row in reader:\n",
    "                dataRow = []\n",
    "                if line_count != 0:\n",
    "                    for column in row:\n",
    "                        dataRow.append(column)\n",
    "                    dataMatrix.append(dataRow)\n",
    "                line_count += 1\n",
    "        \n",
    "        if IsSynthetic == False :\n",
    "            dataMatrix = np.delete(dataMatrix, [0], axis=1)\n",
    "        #dataMatrix = np.transpose(dataMatrix)     \n",
    "        #print (\\\"Data Matrix Generated..\\\")\n",
    "        return dataMatrix"
   ]
  },
  {
   "cell_type": "code",
   "execution_count": 148,
   "metadata": {},
   "outputs": [
    {
     "name": "stderr",
     "output_type": "stream",
     "text": [
      "/Users/dhayanidhigunasekaran/anaconda/lib/python3.5/site-packages/ipykernel_launcher.py:3: DeprecationWarning: 'U' mode is deprecated\n",
      "  This is separate from the ipykernel package so we can avoid doing imports until\n"
     ]
    }
   ],
   "source": [
    "#features are extracted\n",
    "Human_Feature_Data = Removeheaderandserialno('HumanObserved-Features-Data.csv',False)\n",
    "GSC_Data = Removeheaderandserialno('GSC-Features.csv',True)\n",
    "#print(np.matrix(GSC_Data).shape)\n",
    "#print(np.matrix(GSC_Data))\n",
    "#print(Human_Feature_Data)\n",
    "#print(Human_Feature_Data.shape)"
   ]
  },
  {
   "cell_type": "code",
   "execution_count": 149,
   "metadata": {},
   "outputs": [],
   "source": [
    "def findByImageId(img_id,isHuman):\n",
    "    if isHuman == True:\n",
    "        length = 9\n",
    "    else:\n",
    "        length = 512\n",
    "\n",
    "    elem_present = False\n",
    "    output = []\n",
    "    for x in Human_Feature_Data:\n",
    "        if x[0] == img_id:\n",
    "            elem_present = True\n",
    "            op = x\n",
    "    if elem_present == True:\n",
    "        for a in op:\n",
    "            output.append(a)\n",
    "        output = np.delete(output, [0])\n",
    "    else:\n",
    "        for a in range(length):\n",
    "            output.append(0)\n",
    "    return output"
   ]
  },
  {
   "cell_type": "code",
   "execution_count": 150,
   "metadata": {},
   "outputs": [],
   "source": [
    "def insert_into_array(dataRow,op):\n",
    "    length = len(op)\n",
    "    for x in op:\n",
    "        dataRow.append(int(x))\n",
    "    return dataRow"
   ]
  },
  {
   "cell_type": "code",
   "execution_count": 151,
   "metadata": {},
   "outputs": [],
   "source": [
    "#this function generates the input matrix based on the catergory concatenation\n",
    "def generateInputMatrix(filename,same_pair,isHuman):\n",
    "        dataMatrix = [] \n",
    "        if isHuman == True:\n",
    "            sample_len = 792\n",
    "        else:\n",
    "            sample_len = 2000\n",
    "        with open(filename, 'rU') as fi:\n",
    "            reader = csv.reader(fi)\n",
    "            if isHuman == False:\n",
    "                x = list(reader)\n",
    "                x.pop(0)\n",
    "                reader = random.sample(x,sample_len)\n",
    "            else: \n",
    "                if same_pair == False:\n",
    "                    x = list(reader)\n",
    "                    x.pop(0)\n",
    "                    reader = random.sample(x,sample_len)\n",
    "                \n",
    "            line_count = 0\n",
    "            for row in reader:\n",
    "                dataRow = []\n",
    "                if line_count != 0:\n",
    "                    for column in row:\n",
    "                        if column != '0' and column != '1':\n",
    "                            op = findByImageId(column,isHuman)\n",
    "                            dataRow = insert_into_array(dataRow,op)\n",
    "                        else:\n",
    "                            dataRow.append(int(column))\n",
    "                    dataMatrix.append(dataRow)\n",
    "                line_count += 1\n",
    "\n",
    "        #dataMatrix = np.transpose(dataMatrix)     \n",
    "        #print (\\\"Data Matrix Generated..\\\")\n",
    "        return dataMatrix"
   ]
  },
  {
   "cell_type": "code",
   "execution_count": 152,
   "metadata": {},
   "outputs": [],
   "source": [
    "def subtract_elems(dataRow,op):\n",
    "    length = len(op)\n",
    "    for i in range(length):\n",
    "        dataRow[i] = int(dataRow[i]) - int(op[i])\n",
    "    return dataRow"
   ]
  },
  {
   "cell_type": "code",
   "execution_count": 153,
   "metadata": {},
   "outputs": [],
   "source": [
    "def generateSubInputMatrix(filename,same_pair,isHuman):\n",
    "        dataMatrix = []\n",
    "        if isHuman == True:\n",
    "            sample_len = 792\n",
    "        else:\n",
    "            sample_len = 2000\n",
    "        with open(filename, 'rU') as fi:\n",
    "            reader = csv.reader(fi)\n",
    "            if isHuman == False:\n",
    "                x = list(reader)\n",
    "                x.pop(0)\n",
    "                reader = random.sample(x,sample_len)\n",
    "            else: \n",
    "                if same_pair == False:\n",
    "                    x = list(reader)\n",
    "                    x.pop(0)\n",
    "                    reader = random.sample(x,sample_len)\n",
    "                \n",
    "            line_count = 0\n",
    "            for row in reader:\n",
    "                dataRow = []\n",
    "                if line_count != 0:\n",
    "                    col_count = 0\n",
    "                    for column in row:\n",
    "                        if column != '0' and column != '1':\n",
    "                            op = findByImageId(column,isHuman)\n",
    "                            if col_count == 0:\n",
    "                                dataRow = insert_into_array(dataRow,op)\n",
    "                            elif col_count == 1:\n",
    "                                dataRow = subtract_elems(dataRow,op)\n",
    "                        else:\n",
    "                            dataRow.append(int(column))\n",
    "                        col_count += 1\n",
    "                    dataMatrix.append(dataRow)\n",
    "                line_count += 1\n",
    "\n",
    "        #dataMatrix = np.transpose(dataMatrix)     \n",
    "        #print (\\\"Data Matrix Generated..\\\")\n",
    "        return dataMatrix"
   ]
  },
  {
   "cell_type": "code",
   "execution_count": 154,
   "metadata": {},
   "outputs": [
    {
     "name": "stderr",
     "output_type": "stream",
     "text": [
      "/Users/dhayanidhigunasekaran/anaconda/lib/python3.5/site-packages/ipykernel_launcher.py:7: DeprecationWarning: 'U' mode is deprecated\n",
      "  import sys\n"
     ]
    },
    {
     "name": "stdout",
     "output_type": "stream",
     "text": [
      "[[2 1 1 ... 3 2 0]\n",
      " [0 1 1 ... 0 2 0]\n",
      " [0 4 1 ... 2 1 1]\n",
      " ...\n",
      " [1 0 1 ... 4 1 0]\n",
      " [1 1 1 ... 1 1 1]\n",
      " [1 1 1 ... 2 2 1]]\n"
     ]
    }
   ],
   "source": [
    "#this part of code generates input matrix for human observed feature concatenation\n",
    "same_concat_pair = generateInputMatrix('HOF_same_pairs.csv',True,True)\n",
    "diff_concat_pair = generateInputMatrix('HOF_diffn_pairs.csv',False,True)\n",
    "#print(np.matrix(same_pair).shape)\n",
    "#print(np.matrix(diff_pair).shape)\n",
    "human_concat = same_concat_pair + diff_concat_pair\n",
    "human_concat = np.matrix(human_concat)\n",
    "np.random.shuffle(human_concat)\n",
    "print(human_concat)"
   ]
  },
  {
   "cell_type": "code",
   "execution_count": 155,
   "metadata": {},
   "outputs": [
    {
     "name": "stderr",
     "output_type": "stream",
     "text": [
      "/Users/dhayanidhigunasekaran/anaconda/lib/python3.5/site-packages/ipykernel_launcher.py:7: DeprecationWarning: 'U' mode is deprecated\n",
      "  import sys\n"
     ]
    },
    {
     "name": "stdout",
     "output_type": "stream",
     "text": [
      "[[-1  3  1 ...  0  0  1]\n",
      " [ 1  1  0 ...  2  0  1]\n",
      " [ 1  0 -1 ...  2 -1  0]\n",
      " ...\n",
      " [-1 -1  0 ... -1  0  0]\n",
      " [-2  1  0 ... -1  0  0]\n",
      " [ 0 -3  0 ...  0  0  1]]\n"
     ]
    }
   ],
   "source": [
    "#this part of code generates input matrix for human observed feature subtraction\n",
    "same_sub_pair = generateSubInputMatrix('HOF_same_pairs.csv',True,True)\n",
    "diff_sub_pair = generateSubInputMatrix('HOF_diffn_pairs.csv',False,True)\n",
    "#print(np.matrix(same_sub_pair))\n",
    "human_subtract = same_sub_pair + diff_sub_pair\n",
    "human_subtract = np.matrix(human_subtract)\n",
    "np.random.shuffle(human_subtract)\n",
    "print(human_subtract)"
   ]
  },
  {
   "cell_type": "code",
   "execution_count": 156,
   "metadata": {},
   "outputs": [
    {
     "name": "stderr",
     "output_type": "stream",
     "text": [
      "/Users/dhayanidhigunasekaran/anaconda/lib/python3.5/site-packages/ipykernel_launcher.py:7: DeprecationWarning: 'U' mode is deprecated\n",
      "  import sys\n"
     ]
    },
    {
     "name": "stdout",
     "output_type": "stream",
     "text": [
      "(3998, 1025)\n"
     ]
    }
   ],
   "source": [
    "#this part of code generates input matrix for GSC feature concatenation\n",
    "gsc_same_concat_pair = generateInputMatrix('GSC_same_pairs.csv',True,False)\n",
    "gsc_diff_concat_pair = generateInputMatrix('GSC_diffn_pairs.csv',False,False)\n",
    "#print(np.matrix(same_pair).shape)\n",
    "#print(np.matrix(diff_pair).shape)\n",
    "gsc_concat = gsc_same_concat_pair + gsc_diff_concat_pair\n",
    "gsc_concat = np.matrix(gsc_concat)\n",
    "#print(gsc_concat)\n",
    "np.random.shuffle(gsc_concat)\n",
    "print(gsc_concat.shape)"
   ]
  },
  {
   "cell_type": "code",
   "execution_count": 157,
   "metadata": {},
   "outputs": [
    {
     "name": "stderr",
     "output_type": "stream",
     "text": [
      "/Users/dhayanidhigunasekaran/anaconda/lib/python3.5/site-packages/ipykernel_launcher.py:7: DeprecationWarning: 'U' mode is deprecated\n",
      "  import sys\n"
     ]
    },
    {
     "name": "stdout",
     "output_type": "stream",
     "text": [
      "(3998, 513)\n"
     ]
    }
   ],
   "source": [
    "#this part of code generates input matrix for GSC feature subtraction\n",
    "gsc_same_sub_pair = generateSubInputMatrix('GSC_same_pairs.csv',True,False)\n",
    "gsc_diff_sub_pair = generateSubInputMatrix('GSC_diffn_pairs.csv',False,False)\n",
    "#print(np.matrix(same_sub_pair))\n",
    "gsc_subtract = gsc_same_sub_pair + gsc_diff_sub_pair\n",
    "gsc_subtract = np.matrix(gsc_subtract)\n",
    "np.random.shuffle(gsc_subtract)\n",
    "print(gsc_subtract.shape)"
   ]
  },
  {
   "cell_type": "code",
   "execution_count": 158,
   "metadata": {},
   "outputs": [],
   "source": [
    "#this function reads the file and  gets input labels as input and stores it in a vector.\n",
    "def GetTargetVector(matrix):\n",
    "    length = matrix.shape[1]\n",
    "    index = length-1\n",
    "    t = matrix[:,index]\n",
    "    #print(\"Raw Training Generated..\")\n",
    "    return t\n",
    "\n",
    "# this function gets the input file and read the data across and rows and cols and Generates a matrix\n",
    "# Matrix generated in this function is used as raw Data for this problem.\n",
    "def GetRawData(matrix):    \n",
    "    length = matrix.shape[1]\n",
    "    index = length-1\n",
    "    t = matrix[:,:index]\n",
    "    dataMatrix = np.transpose(t)     \n",
    "    #print (\"Data Matrix Generated..\")\n",
    "    return dataMatrix\n",
    "\n",
    "# this function returns 80% of the targetdata as training data output\n",
    "def GenerateTrainingTarget(rawTraining,TrainingPercent = 80):\n",
    "    TrainingLen = int(math.ceil(len(rawTraining)*(TrainingPercent*0.01)))\n",
    "    t           = rawTraining[:TrainingLen]\n",
    "    #print(str(TrainingPercent) + \"% Training Target Generated..\")\n",
    "    return t\n",
    "\n",
    "# this function returns 80% of the rawdata as training data Matrix\n",
    "def GenerateTrainingDataMatrix(rawData, TrainingPercent = 80):\n",
    "    T_len = int(math.ceil(rawData.shape[1]*0.01*TrainingPercent))\n",
    "    d2 = rawData[:,0:T_len]\n",
    "    #print(str(TrainingPercent) + \"% Training Data Generated..\")\n",
    "    return d2\n",
    "\n",
    "#this function generates the validation data based on the inputdata and training count\n",
    "def GenerateValData(rawData, ValPercent, TrainingCount): \n",
    "    valSize = int(math.ceil(rawData.shape[1]*ValPercent*0.01))\n",
    "    V_End = TrainingCount + valSize\n",
    "    dataMatrix = rawData[:,TrainingCount+1:V_End]\n",
    "    #print (str(ValPercent) + \"% Val Data Generated..\")  \n",
    "    return dataMatrix\n",
    "\n",
    "#this function generates the target vector for validation getting target vector,count and percentage as params\n",
    "def GenerateValTargetVector(rawData, ValPercent, TrainingCount): \n",
    "    valSize = int(math.ceil(len(rawData)*ValPercent*0.01))\n",
    "    V_End = TrainingCount + valSize\n",
    "    t =rawData[TrainingCount+1:V_End]\n",
    "    #print (str(ValPercent) + \"% Val Target Data Generated..\")\n",
    "    return t\n",
    "\n",
    "# this function is used to generate the big sigma which is used for computing the phi value\n",
    "# Big sigma determines how broad the basis function is.\n",
    "def GenerateBigSigma(Data, MuMatrix,TrainingPercent,IsSynthetic):\n",
    "    BigSigma    = np.zeros((Data.shape[0],Data.shape[0]))\n",
    "    #Transposing the data matrix\n",
    "    DataT       = np.transpose(Data)\n",
    "    # getting the length of Training data\n",
    "    TrainingLen = math.ceil(len(DataT)*(TrainingPercent*0.01))        \n",
    "    varVect     = []\n",
    "    #print(len(DataT[0]))\n",
    "    #the below code loops through the entire data set 41times and\n",
    "    #computes the variance of each feature set of training data set\n",
    "    for i in range(0,DataT.shape[1]):\n",
    "        vct = []\n",
    "        for j in range(0,int(TrainingLen)):\n",
    "            vct.append(Data[i,j])    \n",
    "        varVect.append(np.var(vct))\n",
    "    \n",
    "    for j in range(Data.shape[0]):\n",
    "        BigSigma[j][j] = 0.2 + varVect[j]\n",
    "    if IsSynthetic == True:\n",
    "        BigSigma = np.dot(3,BigSigma)\n",
    "    else:\n",
    "        BigSigma = np.dot(0.1,BigSigma)\n",
    "    ##print (\"BigSigma Generated..\")\n",
    "    return BigSigma\n",
    "\n",
    "# this function computes the part of phi matrix calculation\n",
    "# this does the job of following equation\n",
    "# (X-U)T * Sigma(Inverse) * (X-U)\n",
    "def GetScalar(DataRow,MuRow, BigSigInv):  \n",
    "    R = np.subtract(DataRow,MuRow)\n",
    "    T = np.dot(BigSigInv,np.transpose(R))  \n",
    "    L = np.dot(R,T)\n",
    "    return L\n",
    "\n",
    "# This is the core formula used in gaussian radial basis function\n",
    "def GetRadialBasisOut(DataRow,MuRow, BigSigInv):    \n",
    "    phi_x = math.exp(-0.5*GetScalar(DataRow,MuRow,BigSigInv))\n",
    "    return phi_x\n",
    "\n",
    "# this function computes the phi matrix provided with the input features\n",
    "def GetPhiMatrix(Data, MuMatrix, BigSigma, TrainingPercent = 80):\n",
    "    DataT = np.transpose(Data)\n",
    "    TrainingLen = math.ceil(len(DataT)*(TrainingPercent*0.01))         \n",
    "    PHI = np.zeros((int(TrainingLen),len(MuMatrix))) \n",
    "    #computes the inverse of bigsigma\n",
    "    BigSigInv = np.linalg.inv(BigSigma)\n",
    "    for  C in range(0,len(MuMatrix)):\n",
    "        for R in range(0,int(TrainingLen)):\n",
    "            PHI[R][C] = GetRadialBasisOut(DataT[R], MuMatrix[C], BigSigInv)\n",
    "    #print (\"PHI Generated..\")\n",
    "    return PHI\n",
    "\n",
    "# this function computest the weights of closed form.\n",
    "# The following formula is implemented in the function\n",
    "# w∗ = (λI + ΦTΦ)−1ΦTt\n",
    "# which is a least squared regularization\n",
    "def GetWeightsClosedForm(PHI, T, Lambda):\n",
    "    Lambda_I = np.identity(len(PHI[0]))\n",
    "    for i in range(0,len(PHI[0])):\n",
    "        Lambda_I[i][i] = Lambda\n",
    "    PHI_T       = np.transpose(PHI)\n",
    "    PHI_SQR     = np.dot(PHI_T,PHI)\n",
    "    PHI_SQR_LI  = np.add(Lambda_I,PHI_SQR)\n",
    "    PHI_SQR_INV = np.linalg.inv(PHI_SQR_LI)\n",
    "    INTER       = np.dot(PHI_SQR_INV, PHI_T)\n",
    "    W           = np.dot(INTER, T)\n",
    "    ##print (\"Training Weights Generated..\")\n",
    "    return W\n",
    "\n",
    "#This is a radial basis computation function.\n",
    "#This is used for converting the phi(x) into a scalar value\n",
    "def GetPhiMatrix(Data, MuMatrix, BigSigma, TrainingPercent = 80):\n",
    "    DataT = np.transpose(Data)\n",
    "    TrainingLen = math.ceil(len(DataT)*(TrainingPercent*0.01))         \n",
    "    PHI = np.zeros((int(TrainingLen),len(MuMatrix))) \n",
    "    BigSigInv = np.linalg.inv(BigSigma)\n",
    "    for  C in range(0,len(MuMatrix)):\n",
    "        for R in range(0,int(TrainingLen)):\n",
    "            PHI[R][C] = GetRadialBasisOut(DataT[R], MuMatrix[C], BigSigInv)\n",
    "    #print (\"PHI Generated..\")\n",
    "    return PHI\n",
    "\n",
    "def sigmoid(z):\n",
    "    return 1./(1 + np.exp(-z))\n",
    "\n",
    "# this function is used for getting the output vector\n",
    "# this does the following formula\n",
    "# y = W * (PHI)T\n",
    "def GetValTest(VAL_PHI,W,isLogistic):\n",
    "    if isLogistic == True:\n",
    "        sigmoid_mat = sigmoid(np.dot(W,np.transpose(VAL_PHI)))\n",
    "        Y = sigmoid_mat\n",
    "    else:\n",
    "        Y = np.dot(W,np.transpose(VAL_PHI))\n",
    "    ##print (\"Test Out Generated..\")\n",
    "    return Y\n",
    "\n",
    "#This function is used to find the accuracy of the depicted output with the actual output\n",
    "#It is nothing but taking ROOT MEAN SQUARE of the outputs.\n",
    "def GetErms(VAL_TEST_OUT,ValDataAct):\n",
    "    sum = 0.0\n",
    "    t=0\n",
    "    accuracy = 0.0\n",
    "    counter = 0\n",
    "    val = 0.0\n",
    "    for i in range (0,len(VAL_TEST_OUT)):\n",
    "        sum = sum + math.pow((ValDataAct[i] - VAL_TEST_OUT[i]),2)\n",
    "        if(int(np.around(VAL_TEST_OUT[i], 0)) == ValDataAct[i]):\n",
    "            counter+=1\n",
    "    accuracy = (float((counter*100))/float(len(VAL_TEST_OUT)))\n",
    "    ##print (\"Accuracy Generated..\")\n",
    "    ##print (\"Validation E_RMS : \" + str(math.sqrt(sum/len(VAL_TEST_OUT))))\n",
    "    return (str(accuracy) + ',' +  str(math.sqrt(sum/len(VAL_TEST_OUT))))\n",
    "\n"
   ]
  },
  {
   "cell_type": "code",
   "execution_count": 159,
   "metadata": {},
   "outputs": [],
   "source": [
    "human_concat_target = GetTargetVector(human_concat)\n",
    "human_subtract_target = GetTargetVector(human_subtract)\n",
    "gsc_concat_target = GetTargetVector(gsc_concat)\n",
    "gsc_subtract_target = GetTargetVector(gsc_subtract)"
   ]
  },
  {
   "cell_type": "code",
   "execution_count": 160,
   "metadata": {},
   "outputs": [],
   "source": [
    "human_concat_raw = GetRawData(human_concat)\n",
    "human_subtract_raw =  GetRawData(human_subtract)\n",
    "gsc_concat_raw =  GetRawData(gsc_concat)\n",
    "gsc_subtract_raw = GetRawData(gsc_subtract) "
   ]
  },
  {
   "cell_type": "code",
   "execution_count": 161,
   "metadata": {},
   "outputs": [],
   "source": [
    "def train_linear_regression(human_concat_target,human_concat_raw,isHuman):\n",
    "    #This functions generates the target for Training the model, which the output Y\n",
    "    # Training percent determines the number of records to be put in training target\n",
    "    h_c_TrainingTarget = np.array(GenerateTrainingTarget(human_concat_target,TrainingPercent))\n",
    "    # This is similar to the previous one, in which the entire dataset features are stored as a matrix\n",
    "    # The shape is 41 which means we eliminated the 5 features which are not required for computation\n",
    "    h_c_TrainingData   = GenerateTrainingDataMatrix(human_concat_raw,TrainingPercent)\n",
    "    #print(h_c_TrainingTarget.shape)\n",
    "    #print(h_c_TrainingData.shape)\n",
    "    no = M\n",
    "    if isHuman == False:\n",
    "        no = 20\n",
    "    kmeans = KMeans(n_clusters=no).fit(h_c_TrainingData)\n",
    "\n",
    "    # This part generates the validation data\n",
    "    h_c_ValDataAct = np.array(GenerateValTargetVector(human_concat_target,ValidationPercent, (len(h_c_TrainingTarget))))\n",
    "    h_c_ValData    = GenerateValData(human_concat_raw,ValidationPercent, (len(h_c_TrainingTarget)))\n",
    "    #print(h_c_ValDataAct.shape)\n",
    "    #print(h_c_ValData.shape)\n",
    "\n",
    "    #this part generates the test data\n",
    "    h_c_TestDataAct = np.array(GenerateValTargetVector(human_concat_target,TestPercent, (len(h_c_TrainingTarget)+len(h_c_ValDataAct))))\n",
    "    h_c_TestData = GenerateValData(human_concat_raw,TestPercent, (len(h_c_TrainingTarget)+len(h_c_ValDataAct)))\n",
    "    #print(h_c_ValDataAct.shape)\n",
    "    #print(h_c_ValData.shape)\n",
    "    \n",
    "    ErmsArr = []\n",
    "    AccuracyArr = []\n",
    "\n",
    "    # We use kmeans clustering to group the input values to the number of clusters.\n",
    "    # Number of clusters is initially set as M.\n",
    "    # Each input feature is clustered to M  centroids\n",
    "    # Mu is a matrix which contains M centroids for each input feature\n",
    "    # So the shape of Mu is M * no. of features\n",
    "    kmeans = KMeans(n_clusters=no, random_state=0).fit(np.transpose(h_c_TrainingData))\n",
    "    Mu = kmeans.cluster_centers_\n",
    "    #Big sigma is used in the phi calculation. which denotes the broadness of the basis function.\n",
    "    #Big sigma is calculated by finding the variance of each input data feature for all the element in training data set\n",
    "    #Big sigma is of the shape of feature * feature\n",
    "    BigSigma     = GenerateBigSigma(human_concat_raw, Mu, TrainingPercent,False)\n",
    "    #print(BigSigma.shape)\n",
    "    # Training PHI\n",
    "    # In this problem, we have 46 input features, We need to use linear regression to compute the rank.\n",
    "    # Radial basis function is a real valued function which determines the distance of the point from the centroid which\n",
    "    # is calculated using Kmeans Clustering.\n",
    "    # We use gaussian radial basis function to determine the phi value.\n",
    "    # Phi matrix converts the 41 input features to M features\n",
    "    # phi matrix is of the shape (Training size * M)\n",
    "    TRAINING_PHI = GetPhiMatrix(human_concat_raw, Mu, BigSigma, TrainingPercent)\n",
    "    #print(TRAINING_PHI.shape)\n",
    "    # weight vector computation\n",
    "    # We have the initial linear regression equation of Y = W(Transpose)*Phi\n",
    "    # inorder to compute the Weights, we need to compute W = phi(inverse)T * Output(T)\n",
    "    # Since Phi is a not a Sqaured matrix, We use Moore-penrose pseudo Inverse to compute the value of Phi+\n",
    "    # We use pseudoinverse because it computes the LEAST SQAURE for a system of linear equations\n",
    "    # There by after applying Regularization, the equation to compute weight becomes\n",
    "    # W* = (λI + ΦTΦ)−1ΦTt\n",
    "    W = GetWeightsClosedForm(TRAINING_PHI,h_c_TrainingTarget,(C_Lambda)) \n",
    "    weight =[]\n",
    "    for i in W:\n",
    "        weight.append(i[0])\n",
    "    weight = np.array(weight)\n",
    "\n",
    "    # we compute the phi matrix for test_data similar to the one we have done for training data\n",
    "    TEST_PHI     = GetPhiMatrix(h_c_TestData, Mu, BigSigma, 100)\n",
    "    # we compute the phi matrix for validation_data similar to the one we have done for training data\n",
    "    VAL_PHI      = GetPhiMatrix(h_c_ValData, Mu, BigSigma, 100)\n",
    "    W_Now        = np.dot(0.1, weight)\n",
    "    La           = 2\n",
    "    learningRate = 0.01\n",
    "    L_Erms_Val   = []\n",
    "    L_Erms_TR    = []\n",
    "    L_Erms_Test  = []\n",
    "    W_Mat        = []\n",
    "\n",
    "    for i in range(0,400):\n",
    "        #This part of code implements the stochastic gradient descent solution for W.\n",
    "        #In Stochastic gradient descent, initially the weight is set to random value\n",
    "        #Then on subsequent iterations, it computes the difference between Actual and computed output\n",
    "        # and determines the weight based on the learning rate.\n",
    "        #This iterations goes on till we reach the convergence point.\n",
    "        # The formula used in the below part of code \n",
    "        # W(t+1) = W(T) + ^w\n",
    "        #^w = -n*^E\n",
    "        #^E = ^Ed + lambda*^Ew\n",
    "        #^Ed = - (t - w(t)T Phi(x))phi(x)\n",
    "        #print ('---------Iteration: ' + str(i) + '--------------')\n",
    "        Delta_E_D     = -np.dot((h_c_TrainingTarget[i] - np.dot(np.transpose(W_Now),TRAINING_PHI[i]))[0],TRAINING_PHI[i])\n",
    "        La_Delta_E_W  = np.dot(La,W_Now)\n",
    "        Delta_E       = np.add(Delta_E_D,La_Delta_E_W)    \n",
    "        Delta_W       = -np.dot(learningRate,Delta_E)\n",
    "        W_T_Next      = W_Now + Delta_W\n",
    "        W_Now         = W_T_Next\n",
    "    \n",
    "        #-----------------TrainingData Accuracy---------------------#\n",
    "        TR_TEST_OUT   = GetValTest(TRAINING_PHI,W_T_Next,False) \n",
    "        Erms_TR       = GetErms(TR_TEST_OUT,h_c_TrainingTarget)\n",
    "        L_Erms_TR.append(float(Erms_TR.split(',')[1]))\n",
    "    \n",
    "        #-----------------ValidationData Accuracy---------------------#\n",
    "        VAL_TEST_OUT  = GetValTest(VAL_PHI,W_T_Next,False) \n",
    "        Erms_Val      = GetErms(VAL_TEST_OUT,h_c_ValDataAct)\n",
    "        L_Erms_Val.append(float(Erms_Val.split(',')[1]))\n",
    "    \n",
    "        #-----------------TestingData Accuracy---------------------#\n",
    "        TEST_OUT      = GetValTest(TEST_PHI,W_T_Next,False) \n",
    "        Erms_Test = GetErms(TEST_OUT,h_c_TestDataAct)\n",
    "        L_Erms_Test.append(float(Erms_Test.split(',')[1]))\n",
    "    \n",
    "    print (\"Training   = \" + str(np.around(min(L_Erms_TR),5)))\n",
    "    print (\"Validation = \" + str(np.around(min(L_Erms_Val),5)))\n",
    "    print (\"Testing    = \" + str(np.around(min(L_Erms_Test),5)))\n"
   ]
  },
  {
   "cell_type": "code",
   "execution_count": 162,
   "metadata": {},
   "outputs": [],
   "source": [
    "def getAccuracy(trainingData,targetData):\n",
    "    length = len(trainingData)\n",
    "    threshold = 0.5\n",
    "    count = 0\n",
    "    for i in range(length):\n",
    "        if trainingData[i] >= threshold:\n",
    "            trainingData[i] = 1\n",
    "        else:\n",
    "            trainingData[i] = 0\n",
    "        if trainingData[i] == targetData[i]:\n",
    "            count += 1\n",
    "            \n",
    "    accuracy = (count * 100./length) # *100\n",
    "    return accuracy"
   ]
  },
  {
   "cell_type": "code",
   "execution_count": 163,
   "metadata": {},
   "outputs": [],
   "source": [
    "def train_logistic_regression(human_concat_target,human_concat_raw,isHuman):\n",
    "    h_c_TrainingTarget = np.array(GenerateTrainingTarget(human_concat_target,TrainingPercent))\n",
    "    h_c_TrainingData   = GenerateTrainingDataMatrix(human_concat_raw,TrainingPercent)\n",
    "   \n",
    "    no = M\n",
    "    if isHuman == False:\n",
    "        no = 15\n",
    "    \n",
    "    kmeans = KMeans(n_clusters=no).fit(h_c_TrainingData)\n",
    "\n",
    "    # This part generates the validation data\n",
    "    h_c_ValDataAct = np.array(GenerateValTargetVector(human_concat_target,ValidationPercent, (len(h_c_TrainingTarget))))\n",
    "    h_c_ValData    = GenerateValData(human_concat_raw,ValidationPercent, (len(h_c_TrainingTarget)))\n",
    "    #print(h_c_ValDataAct.shape)\n",
    "    #print(h_c_ValData.shape)\n",
    "\n",
    "    #this part generates the test data\n",
    "    h_c_TestDataAct = np.array(GenerateValTargetVector(human_concat_target,TestPercent, (len(h_c_TrainingTarget)+len(h_c_ValDataAct))))\n",
    "    h_c_TestData = GenerateValData(human_concat_raw,TestPercent, (len(h_c_TrainingTarget)+len(h_c_ValDataAct)))\n",
    "    #print(h_c_ValDataAct.shape)\n",
    "    #print(h_c_ValData.shape)\n",
    "    \n",
    "    ErmsArr = []\n",
    "    AccuracyArr = []\n",
    "\n",
    "    kmeans = KMeans(n_clusters=no, random_state=0).fit(np.transpose(h_c_TrainingData))\n",
    "    Mu = kmeans.cluster_centers_\n",
    "    BigSigma     = GenerateBigSigma(human_concat_raw, Mu, TrainingPercent,False)\n",
    "    TRAINING_PHI = GetPhiMatrix(human_concat_raw, Mu, BigSigma, TrainingPercent)\n",
    "    W = GetWeightsClosedForm(TRAINING_PHI,h_c_TrainingTarget,(C_Lambda)) \n",
    "    weight =[]\n",
    "    for i in W:\n",
    "        weight.append(i[0])\n",
    "    weight = np.array(weight)\n",
    "\n",
    "    # we compute the phi matrix for test_data similar to the one we have done for training data\n",
    "    TEST_PHI     = GetPhiMatrix(h_c_TestData, Mu, BigSigma, 100)\n",
    "    # we compute the phi matrix for validation_data similar to the one we have done for training data\n",
    "    VAL_PHI      = GetPhiMatrix(h_c_ValData, Mu, BigSigma, 100)\n",
    "    W_Now        = np.dot(0.1, weight)\n",
    "    La           = 2\n",
    "    learningRate = 0.1\n",
    "    L_Erms_Val   = []\n",
    "    L_Erms_TR    = []\n",
    "    L_Erms_Test  = []\n",
    "    W_Mat        = []\n",
    "\n",
    "    for i in range(0,400):\n",
    "        sigmoid_matrix =  sigmoid(np.dot(np.transpose(W_Now),TRAINING_PHI[i]))\n",
    "        Delta_E_D     = -np.dot((h_c_TrainingTarget[i] - sigmoid_matrix)[0],TRAINING_PHI[i])\n",
    "        La_Delta_E_W  = np.dot(La,W_Now)\n",
    "        Delta_E       = np.add(Delta_E_D,La_Delta_E_W)    \n",
    "        Delta_W       = -np.dot(learningRate,Delta_E)\n",
    "        W_T_Next      = W_Now + Delta_W\n",
    "        W_Now         = W_T_Next\n",
    "    \n",
    "        #-----------------TrainingData Accuracy---------------------#\n",
    "        TR_TEST_OUT   = GetValTest(TRAINING_PHI,W_T_Next,True)\n",
    "        #-----------------ValidationData Accuracy---------------------#\n",
    "        VAL_TEST_OUT  = GetValTest(VAL_PHI,W_T_Next,True) \n",
    "        #-----------------TestingData Accuracy---------------------#\n",
    "        TEST_OUT      = GetValTest(TEST_PHI,W_T_Next,True) \n",
    "        Testing_Accuracy = getAccuracy(TEST_OUT,h_c_TestDataAct)\n",
    "    \n",
    "    print (\"Accuracy   = \" + str(Testing_Accuracy))\n",
    "\n"
   ]
  },
  {
   "cell_type": "code",
   "execution_count": 164,
   "metadata": {},
   "outputs": [],
   "source": [
    "def encodeLabel(labels):\n",
    "    processedLabel = []\n",
    "    for labelInstance in labels:\n",
    "        if(labelInstance == 1):\n",
    "            processedLabel.append([1])\n",
    "        else:\n",
    "            processedLabel.append([0])\n",
    "\n",
    "    return np_utils.to_categorical(np.array(processedLabel),2)\n",
    "\n",
    "def decodeLabel(encodedLabel):\n",
    "    if encodedLabel == 0:\n",
    "        return 0\n",
    "    elif encodedLabel == 1:\n",
    "        return 1"
   ]
  },
  {
   "cell_type": "code",
   "execution_count": 184,
   "metadata": {},
   "outputs": [],
   "source": [
    "def train_neural_network(human_concat_target,human_concat_raw):\n",
    "    np.random.shuffle(human_concat_raw)\n",
    "    NN_TrainingTarget = np.array(GenerateTrainingTarget(human_concat_target,TrainingPercent))\n",
    "    NN_TrainingTarget = encodeLabel(NN_TrainingTarget)\n",
    "    NN_TrainingData   = GenerateTrainingDataMatrix(human_concat_raw,TrainingPercent)\n",
    "    NN_ValDataAct = np.array(GenerateValTargetVector(human_concat_target,ValidationPercent, (len(NN_TrainingTarget))))\n",
    "    NN_ValDataAct = encodeLabel(NN_ValDataAct)\n",
    "    NN_ValData    = GenerateValData(human_concat_raw,ValidationPercent, (len(NN_TrainingTarget)))\n",
    "    NN_TestDataAct = np.array(GenerateValTargetVector(human_concat_target,TestPercent, (len(NN_TrainingTarget)+len(NN_ValDataAct))))\n",
    "    #NN_ValDataAct = encodeLabel(NN_TestDataAct)\n",
    "    NN_TestData = GenerateValData(human_concat_raw,TestPercent, (len(NN_TrainingTarget)+len(NN_ValDataAct)))\n",
    "    # Defining Placeholder\n",
    "    NN_TrainingData = np.transpose(NN_TrainingData)\n",
    "    NN_TestData = np.transpose(NN_TestData)\n",
    "    inputTensor  = tf.placeholder(tf.float32, [None, NN_TrainingData.shape[1]])\n",
    "    outputTensor = tf.placeholder(tf.float32, [None, 2])\n",
    "    NUM_HIDDEN_NEURONS_LAYER_1 = 100\n",
    "    LEARNING_RATE = 0.1\n",
    "\n",
    "    # Initializing the weights to Normal Distribution\n",
    "    def init_weights(shape):\n",
    "        return tf.Variable(tf.random_normal(shape,stddev=0.01))\n",
    "\n",
    "    # Initializing the input to hidden layer weights\n",
    "    input_hidden_weights  = init_weights([NN_TrainingData.shape[1], NUM_HIDDEN_NEURONS_LAYER_1])\n",
    "    # Initializing the hidden to output layer weights\n",
    "    hidden_output_weights = init_weights([NUM_HIDDEN_NEURONS_LAYER_1, 2])\n",
    "\n",
    "    # Computing values at the hidden layer\n",
    "    hidden_layer = tf.nn.relu(tf.matmul(inputTensor, input_hidden_weights))\n",
    "    # Computing values at the output layer\n",
    "    output_layer = tf.matmul(hidden_layer, hidden_output_weights)\n",
    "\n",
    "    # Defining Error Function\n",
    "    error_function = tf.reduce_mean(tf.nn.softmax_cross_entropy_with_logits(logits=output_layer, labels=outputTensor))\n",
    "\n",
    "    # Defining Learning Algorithm and Training Parameters\n",
    "    training = tf.train.GradientDescentOptimizer(LEARNING_RATE).minimize(error_function)\n",
    "\n",
    "    # Prediction Function\n",
    "    prediction = tf.argmax(output_layer, 1)\n",
    "    NUM_OF_EPOCHS = 250\n",
    "    BATCH_SIZE = 512\n",
    "\n",
    "    training_accuracy = []\n",
    "    training_loss = []\n",
    "    processedTrainingData = NN_TrainingData\n",
    "    processedTrainingLabel = NN_TrainingTarget\n",
    "    processedTestingData = NN_TestData\n",
    "    with tf.Session() as sess:\n",
    "    \n",
    "        # Set Global Variables ?\n",
    "        # In tensorflow, in order to use a variable it must be initialized before using it. \n",
    "        # Global variable initializer inititalizes all the variables that have been used in the program.\n",
    "        tf.global_variables_initializer().run()\n",
    "    \n",
    "        for epoch in tqdm_notebook(range(NUM_OF_EPOCHS)):\n",
    "        \n",
    "            #Shuffle the Training Dataset at each epoch\n",
    "            p = np.random.permutation(range(len(processedTrainingData)))\n",
    "            processedTrainingData  = processedTrainingData[p]\n",
    "            processedTrainingLabel = processedTrainingLabel[p]\n",
    "        \n",
    "            # Start batch training\n",
    "            for start in range(0, len(processedTrainingData), BATCH_SIZE):\n",
    "                end = start + BATCH_SIZE\n",
    "                sess.run(training, feed_dict={inputTensor: processedTrainingData[start:end], \n",
    "                                          outputTensor: processedTrainingLabel[start:end]})\n",
    "            # Training accuracy for an epoch\n",
    "            training_accuracy.append(np.mean(np.argmax(processedTrainingLabel, axis=1) ==\n",
    "                             sess.run(prediction, feed_dict={inputTensor: processedTrainingData,\n",
    "                                                             outputTensor: processedTrainingLabel})))\n",
    "            training_loss.append(np.mean(np.argmax(processedTrainingLabel, axis=1) !=\n",
    "                             sess.run(prediction, feed_dict={inputTensor: processedTrainingData,\n",
    "                                                             outputTensor: processedTrainingLabel})))\n",
    "        # Testing\n",
    "        predictedTestLabel = sess.run(prediction, feed_dict={inputTensor: processedTestingData})\n",
    "\n",
    "    processedTestingLabel = NN_TestDataAct\n",
    "    right = 0\n",
    "    wrong = 0\n",
    "    for i,j in zip(processedTestingLabel,predictedTestLabel):\n",
    "        if np.argmax(i) == j:\n",
    "            right = right + 1\n",
    "        else:\n",
    "            wrong = wrong + 1\n",
    "        \n",
    "    print(\"Testing Accuracy: \" + str(right/(right+wrong)*100))"
   ]
  },
  {
   "cell_type": "code",
   "execution_count": 166,
   "metadata": {},
   "outputs": [
    {
     "name": "stdout",
     "output_type": "stream",
     "text": [
      "Linear Regression Results\n",
      "==============================\n",
      "==============================\n",
      "HUMAN OBSERVED FEATURE CONCATENATION\n",
      "Training   = 0.70431\n",
      "Validation = 0.68897\n",
      "Testing    = 0.74867\n",
      "HUMAN OBSERVED FEATURE Subtraction\n",
      "Training   = 0.71369\n",
      "Validation = 0.70259\n",
      "Testing    = 0.65325\n",
      "GSC FEATURE CONCATENATION\n",
      "Training   = 0.49997\n",
      "Validation = 0.49999\n",
      "Testing    = 0.49849\n",
      "GSC FEATURE Subtraction\n",
      "Training   = 0.49999\n",
      "Validation = 0.49996\n",
      "Testing    = 0.49902\n"
     ]
    }
   ],
   "source": [
    "print(\"Linear Regression Results\")\n",
    "print(\"==============================\")\n",
    "print(\"==============================\")\n",
    "print(\"HUMAN OBSERVED FEATURE CONCATENATION\")\n",
    "train_linear_regression(human_concat_target,human_concat_raw,True)\n",
    "print(\"HUMAN OBSERVED FEATURE Subtraction\")\n",
    "train_linear_regression(human_subtract_target,human_subtract_raw,True)\n",
    "print(\"GSC FEATURE CONCATENATION\")\n",
    "train_linear_regression(gsc_concat_target,gsc_concat_raw,False)\n",
    "print(\"GSC FEATURE Subtraction\")\n",
    "train_linear_regression(gsc_subtract_target,gsc_subtract_raw,False)"
   ]
  },
  {
   "cell_type": "code",
   "execution_count": 167,
   "metadata": {
    "scrolled": true
   },
   "outputs": [
    {
     "name": "stdout",
     "output_type": "stream",
     "text": [
      "Logistic Regression Results\n",
      "==============================\n",
      "==============================\n",
      "HUMAN OBSERVED FEATURE CONCATENATION\n",
      "Accuracy   = 56.05095541401274\n",
      "HUMAN OBSERVED FEATURE Subtraction\n",
      "Accuracy   = 42.67515923566879\n",
      "GSC FEATURE CONCATENATION\n",
      "Accuracy   = 53.88471177944862\n",
      "GSC FEATURE Subtraction\n",
      "Accuracy   = 53.1328320802005\n"
     ]
    }
   ],
   "source": [
    "print(\"Logistic Regression Results\")\n",
    "print(\"==============================\")\n",
    "print(\"==============================\")\n",
    "print(\"HUMAN OBSERVED FEATURE CONCATENATION\")\n",
    "train_logistic_regression(human_concat_target,human_concat_raw,True)\n",
    "print(\"HUMAN OBSERVED FEATURE Subtraction\")\n",
    "train_logistic_regression(human_subtract_target,human_subtract_raw,True)\n",
    "print(\"GSC FEATURE CONCATENATION\")\n",
    "train_logistic_regression(gsc_concat_target,gsc_concat_raw,False)\n",
    "print(\"GSC FEATURE Subtraction\")\n",
    "train_logistic_regression(gsc_subtract_target,gsc_subtract_raw,False)"
   ]
  },
  {
   "cell_type": "code",
   "execution_count": 186,
   "metadata": {},
   "outputs": [
    {
     "name": "stdout",
     "output_type": "stream",
     "text": [
      "Neural Network Results\n",
      "==============================\n",
      "==============================\n",
      "HUMAN OBSERVED FEATURE CONCATENATION\n"
     ]
    },
    {
     "data": {
      "application/vnd.jupyter.widget-view+json": {
       "model_id": "694ef5e5f4cc46ef8197c3de24994d00",
       "version_major": 2,
       "version_minor": 0
      },
      "text/plain": [
       "HBox(children=(IntProgress(value=0, max=250), HTML(value='')))"
      ]
     },
     "metadata": {},
     "output_type": "display_data"
    },
    {
     "name": "stdout",
     "output_type": "stream",
     "text": [
      "Testing Accuracy: 51.59235668789809\n",
      "HUMAN OBSERVED FEATURE Subtraction\n"
     ]
    },
    {
     "data": {
      "application/vnd.jupyter.widget-view+json": {
       "model_id": "8ec0ffa2ad9644879bf8cdbef3fe67b6",
       "version_major": 2,
       "version_minor": 0
      },
      "text/plain": [
       "HBox(children=(IntProgress(value=0, max=250), HTML(value='')))"
      ]
     },
     "metadata": {},
     "output_type": "display_data"
    },
    {
     "name": "stdout",
     "output_type": "stream",
     "text": [
      "Testing Accuracy: 46.496815286624205\n",
      "GSC FEATURE CONCATENATION\n"
     ]
    },
    {
     "data": {
      "application/vnd.jupyter.widget-view+json": {
       "model_id": "616d7a60226d40b08ef138685ee4ae08",
       "version_major": 2,
       "version_minor": 0
      },
      "text/plain": [
       "HBox(children=(IntProgress(value=0, max=250), HTML(value='')))"
      ]
     },
     "metadata": {},
     "output_type": "display_data"
    },
    {
     "name": "stdout",
     "output_type": "stream",
     "text": [
      "Testing Accuracy: 100.0\n",
      "GSC FEATURE Subtraction\n"
     ]
    },
    {
     "data": {
      "application/vnd.jupyter.widget-view+json": {
       "model_id": "a96fa23d60d14c4e8107e87e9bf86eb1",
       "version_major": 2,
       "version_minor": 0
      },
      "text/plain": [
       "HBox(children=(IntProgress(value=0, max=250), HTML(value='')))"
      ]
     },
     "metadata": {},
     "output_type": "display_data"
    },
    {
     "name": "stdout",
     "output_type": "stream",
     "text": [
      "Testing Accuracy: 100.0\n"
     ]
    }
   ],
   "source": [
    "print(\"Neural Network Results\")\n",
    "print(\"==============================\")\n",
    "print(\"==============================\")\n",
    "print(\"HUMAN OBSERVED FEATURE CONCATENATION\")\n",
    "train_neural_network(human_concat_target,human_concat_raw)\n",
    "print(\"HUMAN OBSERVED FEATURE Subtraction\")\n",
    "train_neural_network(human_subtract_target,human_subtract_raw)\n",
    "print(\"GSC FEATURE CONCATENATION\")\n",
    "train_neural_network(gsc_concat_target,gsc_concat_raw)\n",
    "print(\"GSC FEATURE Subtraction\")\n",
    "train_neural_network(gsc_subtract_target,gsc_subtract_raw)"
   ]
  },
  {
   "cell_type": "code",
   "execution_count": 170,
   "metadata": {},
   "outputs": [
    {
     "data": {
      "text/plain": [
       "[<matplotlib.lines.Line2D at 0x1a21c98860>]"
      ]
     },
     "execution_count": 170,
     "metadata": {},
     "output_type": "execute_result"
    },
    {
     "data": {
      "image/png": "[encoded data removed]",
      "text/plain": [
       "<Figure size 432x288 with 1 Axes>"
      ]
     },
     "metadata": {},
     "output_type": "display_data"
    }
   ],
   "source": [
    "m_value = [9,8,6,5]\n",
    "erm_m = [68,69,74,72]\n",
    "plt.plot(m_value,erm_m,'go--', linewidth=2, markersize=12)"
   ]
  },
  {
   "cell_type": "code",
   "execution_count": 171,
   "metadata": {},
   "outputs": [
    {
     "data": {
      "text/plain": [
       "[<matplotlib.lines.Line2D at 0x1a22e94828>]"
      ]
     },
     "execution_count": 171,
     "metadata": {},
     "output_type": "execute_result"
    },
    {
     "data": {
      "image/png": "[encoded data removed]",
      "text/plain": [
       "<Figure size 432x288 with 1 Axes>"
      ]
     },
     "metadata": {},
     "output_type": "display_data"
    }
   ],
   "source": [
    "sigma_value = [200,20,2,0.1]\n",
    "erm_s = [0.62,0.66,0.65,0.72]\n",
    "plt.plot(sigma_value,erm_s)"
   ]
  },
  {
   "cell_type": "code",
   "execution_count": 172,
   "metadata": {},
   "outputs": [
    {
     "data": {
      "text/plain": [
       "[<matplotlib.lines.Line2D at 0x1a361594e0>]"
      ]
     },
     "execution_count": 172,
     "metadata": {},
     "output_type": "execute_result"
    },
    {
     "data": {
      "image/png": "[encoded data removed]",
      "text/plain": [
       "<Figure size 432x288 with 1 Axes>"
      ]
     },
     "metadata": {},
     "output_type": "display_data"
    }
   ],
   "source": [
    "lambda_value = [0.1,100,100000,1000000,100000000]\n",
    "erm_l = [0.74,0.69,0.67,0.68,0.71]\n",
    "plt.plot(lambda_value,erm_l,color='red', marker='o', linestyle='dashed',linewidth=2, markersize=12)"
   ]
  },
  {
   "cell_type": "code",
   "execution_count": 173,
   "metadata": {},
   "outputs": [
    {
     "data": {
      "text/plain": [
       "[<matplotlib.lines.Line2D at 0x1a22b031d0>]"
      ]
     },
     "execution_count": 173,
     "metadata": {},
     "output_type": "execute_result"
    },
    {
     "data": {
      "image/png": "[encoded data removed]",
      "text/plain": [
       "<Figure size 432x288 with 1 Axes>"
      ]
     },
     "metadata": {},
     "output_type": "display_data"
    }
   ],
   "source": [
    "lamb_value = [0.0001,0.001,0.01,0.1]\n",
    "erm_l = [66,68,72,74]\n",
    "plt.plot(lamb_value,erm_l,color='green', linestyle='dashed',linewidth=2, markersize=12)"
   ]
  },
  {
   "cell_type": "code",
   "execution_count": 180,
   "metadata": {},
   "outputs": [
    {
     "data": {
      "image/png": "[encoded data removed]",
      "text/plain": [
       "<Figure size 640x480 with 1 Axes>"
      ]
     },
     "metadata": {},
     "output_type": "display_data"
    }
   ],
   "source": [
    "plt.rcdefaults()\n",
    "fig, ax = plt.subplots()\n",
    "\n",
    "# Example data\n",
    "people = ('HO Concat', 'HO Subtract', 'GSC Concat', 'GSC Subtract')\n",
    "y_pos = np.arange(len(people))\n",
    "performance = (74,65,58,58)\n",
    "\n",
    "ax.barh(y_pos, performance, align='center',\n",
    "        color='green', ecolor='black')\n",
    "ax.set_yticks(y_pos)\n",
    "ax.set_yticklabels(people)\n",
    "ax.invert_yaxis()  # labels read top-to-bottom\n",
    "ax.set_xlabel('Efficiency')\n",
    "ax.set_title('Linear Regression')\n",
    "\n",
    "plt.show()"
   ]
  },
  {
   "cell_type": "code",
   "execution_count": 178,
   "metadata": {},
   "outputs": [
    {
     "data": {
      "image/png": "[encoded data removed]",
      "text/plain": [
       "<Figure size 640x480 with 1 Axes>"
      ]
     },
     "metadata": {},
     "output_type": "display_data"
    }
   ],
   "source": [
    "plt.rcdefaults()\n",
    "fig, ax = plt.subplots()\n",
    "\n",
    "# Example data\n",
    "people = ('HO Concat', 'HO Subtract', 'GSC Concat', 'GSC Subtract')\n",
    "y_pos = np.arange(len(people))\n",
    "performance = (58,48,92,95)\n",
    "\n",
    "ax.barh(y_pos, performance, align='center',\n",
    "        color='blue', ecolor='black')\n",
    "ax.set_yticks(y_pos)\n",
    "ax.set_yticklabels(people)\n",
    "ax.invert_yaxis()  # labels read top-to-bottom\n",
    "ax.set_xlabel('Efficiency')\n",
    "ax.set_title('Neural Network')\n",
    "\n",
    "plt.show()"
   ]
  },
  {
   "cell_type": "code",
   "execution_count": null,
   "metadata": {},
   "outputs": [],
   "source": []
  }
 ],
 "metadata": {
  "kernelspec": {
   "display_name": "Python 3",
   "language": "python",
   "name": "python3"
  },
  "language_info": {
   "codemirror_mode": {
    "name": "ipython",
    "version": 3
   },
   "file_extension": ".py",
   "mimetype": "text/x-python",
   "name": "python",
   "nbconvert_exporter": "python",
   "pygments_lexer": "ipython3",
   "version": "3.5.5"
  }
 },
 "nbformat": 4,
 "nbformat_minor": 2
}
